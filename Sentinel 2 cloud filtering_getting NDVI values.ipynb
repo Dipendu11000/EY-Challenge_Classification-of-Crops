{
 "cells": [
  {
   "cell_type": "markdown",
   "metadata": {
    "tags": []
   },
   "source": [
    "## 2023 Open Science Data Challenge - Sentinel-2 Phenology with Cloud Filtering\n",
    "\n",
    "This notebook calculates vegetation phenology using Sentinel-2 data with cloud filtering. This pixel-based approach is better than a scene-based approach since clouds are quite random for any given time and location. To address phenology, the algorithm uses the Normalized Difference Vegetation Index (NDVI) which is a common proxy for vegetation growth and health. The outputs of this notebook can be used to assess differences in agriculture fields over time or space and also allow the assessment of growing states such as planting and harvesting. The baseline data is [Sentinel-2 Level-2A](https://planetarycomputer.microsoft.com/dataset/sentinel-2-l2a) data from the MS Planetary Computer catalog."
   ]
  },
  {
   "cell_type": "code",
   "execution_count": 1,
   "metadata": {},
   "outputs": [],
   "source": [
    "# Supress Warnings \n",
    "import warnings\n",
    "warnings.filterwarnings('ignore')\n",
    "\n",
    "# Import common GIS tools\n",
    "import pandas as pd\n",
    "import numpy as np\n",
    "import xarray as xr\n",
    "import matplotlib.pyplot as plt\n",
    "import rasterio.features\n",
    "import rioxarray as rio\n",
    "import xrspatial.multispectral as ms\n",
    "\n",
    "# Import Planetary Computer tools\n",
    "import pystac_client\n",
    "import planetary_computer as pc\n",
    "import odc\n",
    "from odc.stac import stac_load\n",
    "from odc.algo import to_rgba\n",
    "\n",
    "from tqdm import tqdm"
   ]
  },
  {
   "cell_type": "code",
   "execution_count": 2,
   "metadata": {
    "scrolled": true
   },
   "outputs": [
    {
     "data": {
      "text/html": [
       "<div>\n",
       "<style scoped>\n",
       "    .dataframe tbody tr th:only-of-type {\n",
       "        vertical-align: middle;\n",
       "    }\n",
       "\n",
       "    .dataframe tbody tr th {\n",
       "        vertical-align: top;\n",
       "    }\n",
       "\n",
       "    .dataframe thead th {\n",
       "        text-align: right;\n",
       "    }\n",
       "</style>\n",
       "<table border=\"1\" class=\"dataframe\">\n",
       "  <thead>\n",
       "    <tr style=\"text-align: right;\">\n",
       "      <th></th>\n",
       "      <th>Latitude and Longitude</th>\n",
       "      <th>Class of Land</th>\n",
       "    </tr>\n",
       "  </thead>\n",
       "  <tbody>\n",
       "    <tr>\n",
       "      <th>0</th>\n",
       "      <td>(10.323727047081501, 105.2516346045924)</td>\n",
       "      <td>Rice</td>\n",
       "    </tr>\n",
       "    <tr>\n",
       "      <th>1</th>\n",
       "      <td>(10.322364360592521, 105.27843410554115)</td>\n",
       "      <td>Rice</td>\n",
       "    </tr>\n",
       "    <tr>\n",
       "      <th>2</th>\n",
       "      <td>(10.321455902933202, 105.25254306225168)</td>\n",
       "      <td>Rice</td>\n",
       "    </tr>\n",
       "    <tr>\n",
       "      <th>3</th>\n",
       "      <td>(10.324181275911162, 105.25118037576274)</td>\n",
       "      <td>Rice</td>\n",
       "    </tr>\n",
       "    <tr>\n",
       "      <th>4</th>\n",
       "      <td>(10.324635504740822, 105.27389181724476)</td>\n",
       "      <td>Rice</td>\n",
       "    </tr>\n",
       "    <tr>\n",
       "      <th>...</th>\n",
       "      <td>...</td>\n",
       "      <td>...</td>\n",
       "    </tr>\n",
       "    <tr>\n",
       "      <th>595</th>\n",
       "      <td>(10.013942985253381, 105.67361318732796)</td>\n",
       "      <td>Non Rice</td>\n",
       "    </tr>\n",
       "    <tr>\n",
       "      <th>596</th>\n",
       "      <td>(10.01348875642372, 105.67361318732796)</td>\n",
       "      <td>Non Rice</td>\n",
       "    </tr>\n",
       "    <tr>\n",
       "      <th>597</th>\n",
       "      <td>(10.013034527594062, 105.67361318732796)</td>\n",
       "      <td>Non Rice</td>\n",
       "    </tr>\n",
       "    <tr>\n",
       "      <th>598</th>\n",
       "      <td>(10.012580298764401, 105.67361318732796)</td>\n",
       "      <td>Non Rice</td>\n",
       "    </tr>\n",
       "    <tr>\n",
       "      <th>599</th>\n",
       "      <td>(10.012126069934741, 105.67361318732796)</td>\n",
       "      <td>Non Rice</td>\n",
       "    </tr>\n",
       "  </tbody>\n",
       "</table>\n",
       "<p>600 rows × 2 columns</p>\n",
       "</div>"
      ],
      "text/plain": [
       "                       Latitude and Longitude Class of Land\n",
       "0     (10.323727047081501, 105.2516346045924)          Rice\n",
       "1    (10.322364360592521, 105.27843410554115)          Rice\n",
       "2    (10.321455902933202, 105.25254306225168)          Rice\n",
       "3    (10.324181275911162, 105.25118037576274)          Rice\n",
       "4    (10.324635504740822, 105.27389181724476)          Rice\n",
       "..                                        ...           ...\n",
       "595  (10.013942985253381, 105.67361318732796)      Non Rice\n",
       "596   (10.01348875642372, 105.67361318732796)      Non Rice\n",
       "597  (10.013034527594062, 105.67361318732796)      Non Rice\n",
       "598  (10.012580298764401, 105.67361318732796)      Non Rice\n",
       "599  (10.012126069934741, 105.67361318732796)      Non Rice\n",
       "\n",
       "[600 rows x 2 columns]"
      ]
     },
     "execution_count": 2,
     "metadata": {},
     "output_type": "execute_result"
    }
   ],
   "source": [
    "crop_presence_data = pd.read_csv(\"Crop_Location_Data_20221201.csv\")\n",
    "crop_presence_data"
   ]
  },
  {
   "cell_type": "code",
   "execution_count": 3,
   "metadata": {},
   "outputs": [],
   "source": [
    "crop_presence_data['Latitude and Longitude']=crop_presence_data['Latitude and Longitude'].apply(lambda x: x.replace('(','').replace(')','').replace(' ','').split(','))"
   ]
  },
  {
   "cell_type": "code",
   "execution_count": null,
   "metadata": {},
   "outputs": [],
   "source": []
  },
  {
   "cell_type": "code",
   "execution_count": 14,
   "metadata": {},
   "outputs": [],
   "source": [
    "for i in range(len(crop_presence_data)):\n",
    "    crop_presence_data['Latitude'][i]=crop_presence_data['Latitude and Longitude'][i][0]\n",
    "    crop_presence_data['Longitude'][i]=crop_presence_data['Latitude and Longitude'][i][1]"
   ]
  },
  {
   "cell_type": "code",
   "execution_count": 15,
   "metadata": {},
   "outputs": [
    {
     "data": {
      "text/html": [
       "<div>\n",
       "<style scoped>\n",
       "    .dataframe tbody tr th:only-of-type {\n",
       "        vertical-align: middle;\n",
       "    }\n",
       "\n",
       "    .dataframe tbody tr th {\n",
       "        vertical-align: top;\n",
       "    }\n",
       "\n",
       "    .dataframe thead th {\n",
       "        text-align: right;\n",
       "    }\n",
       "</style>\n",
       "<table border=\"1\" class=\"dataframe\">\n",
       "  <thead>\n",
       "    <tr style=\"text-align: right;\">\n",
       "      <th></th>\n",
       "      <th>Latitude and Longitude</th>\n",
       "      <th>Class of Land</th>\n",
       "      <th>Latitude</th>\n",
       "      <th>Longitude</th>\n",
       "    </tr>\n",
       "  </thead>\n",
       "  <tbody>\n",
       "    <tr>\n",
       "      <th>0</th>\n",
       "      <td>[10.323727047081501, 105.2516346045924]</td>\n",
       "      <td>Rice</td>\n",
       "      <td>10.323727047081501</td>\n",
       "      <td>105.2516346045924</td>\n",
       "    </tr>\n",
       "    <tr>\n",
       "      <th>1</th>\n",
       "      <td>[10.322364360592521, 105.27843410554115]</td>\n",
       "      <td>Rice</td>\n",
       "      <td>10.322364360592521</td>\n",
       "      <td>105.27843410554115</td>\n",
       "    </tr>\n",
       "    <tr>\n",
       "      <th>2</th>\n",
       "      <td>[10.321455902933202, 105.25254306225168]</td>\n",
       "      <td>Rice</td>\n",
       "      <td>10.321455902933202</td>\n",
       "      <td>105.25254306225168</td>\n",
       "    </tr>\n",
       "    <tr>\n",
       "      <th>3</th>\n",
       "      <td>[10.324181275911162, 105.25118037576274]</td>\n",
       "      <td>Rice</td>\n",
       "      <td>10.324181275911162</td>\n",
       "      <td>105.25118037576274</td>\n",
       "    </tr>\n",
       "    <tr>\n",
       "      <th>4</th>\n",
       "      <td>[10.324635504740822, 105.27389181724476]</td>\n",
       "      <td>Rice</td>\n",
       "      <td>10.324635504740822</td>\n",
       "      <td>105.27389181724476</td>\n",
       "    </tr>\n",
       "    <tr>\n",
       "      <th>...</th>\n",
       "      <td>...</td>\n",
       "      <td>...</td>\n",
       "      <td>...</td>\n",
       "      <td>...</td>\n",
       "    </tr>\n",
       "    <tr>\n",
       "      <th>595</th>\n",
       "      <td>[10.013942985253381, 105.67361318732796]</td>\n",
       "      <td>Non Rice</td>\n",
       "      <td>10.013942985253381</td>\n",
       "      <td>105.67361318732796</td>\n",
       "    </tr>\n",
       "    <tr>\n",
       "      <th>596</th>\n",
       "      <td>[10.01348875642372, 105.67361318732796]</td>\n",
       "      <td>Non Rice</td>\n",
       "      <td>10.01348875642372</td>\n",
       "      <td>105.67361318732796</td>\n",
       "    </tr>\n",
       "    <tr>\n",
       "      <th>597</th>\n",
       "      <td>[10.013034527594062, 105.67361318732796]</td>\n",
       "      <td>Non Rice</td>\n",
       "      <td>10.013034527594062</td>\n",
       "      <td>105.67361318732796</td>\n",
       "    </tr>\n",
       "    <tr>\n",
       "      <th>598</th>\n",
       "      <td>[10.012580298764401, 105.67361318732796]</td>\n",
       "      <td>Non Rice</td>\n",
       "      <td>10.012580298764401</td>\n",
       "      <td>105.67361318732796</td>\n",
       "    </tr>\n",
       "    <tr>\n",
       "      <th>599</th>\n",
       "      <td>[10.012126069934741, 105.67361318732796]</td>\n",
       "      <td>Non Rice</td>\n",
       "      <td>10.012126069934741</td>\n",
       "      <td>105.67361318732796</td>\n",
       "    </tr>\n",
       "  </tbody>\n",
       "</table>\n",
       "<p>600 rows × 4 columns</p>\n",
       "</div>"
      ],
      "text/plain": [
       "                       Latitude and Longitude Class of Land  \\\n",
       "0     [10.323727047081501, 105.2516346045924]          Rice   \n",
       "1    [10.322364360592521, 105.27843410554115]          Rice   \n",
       "2    [10.321455902933202, 105.25254306225168]          Rice   \n",
       "3    [10.324181275911162, 105.25118037576274]          Rice   \n",
       "4    [10.324635504740822, 105.27389181724476]          Rice   \n",
       "..                                        ...           ...   \n",
       "595  [10.013942985253381, 105.67361318732796]      Non Rice   \n",
       "596   [10.01348875642372, 105.67361318732796]      Non Rice   \n",
       "597  [10.013034527594062, 105.67361318732796]      Non Rice   \n",
       "598  [10.012580298764401, 105.67361318732796]      Non Rice   \n",
       "599  [10.012126069934741, 105.67361318732796]      Non Rice   \n",
       "\n",
       "               Latitude           Longitude  \n",
       "0    10.323727047081501   105.2516346045924  \n",
       "1    10.322364360592521  105.27843410554115  \n",
       "2    10.321455902933202  105.25254306225168  \n",
       "3    10.324181275911162  105.25118037576274  \n",
       "4    10.324635504740822  105.27389181724476  \n",
       "..                  ...                 ...  \n",
       "595  10.013942985253381  105.67361318732796  \n",
       "596   10.01348875642372  105.67361318732796  \n",
       "597  10.013034527594062  105.67361318732796  \n",
       "598  10.012580298764401  105.67361318732796  \n",
       "599  10.012126069934741  105.67361318732796  \n",
       "\n",
       "[600 rows x 4 columns]"
      ]
     },
     "execution_count": 15,
     "metadata": {},
     "output_type": "execute_result"
    }
   ],
   "source": [
    "crop_presence_data"
   ]
  },
  {
   "cell_type": "code",
   "execution_count": 17,
   "metadata": {},
   "outputs": [],
   "source": [
    "crop_presence_data= crop_presence_data.drop(columns=['Latitude and Longitude'])"
   ]
  },
  {
   "cell_type": "code",
   "execution_count": 18,
   "metadata": {},
   "outputs": [
    {
     "data": {
      "text/plain": [
       "Index(['Class of Land', 'Latitude', 'Longitude'], dtype='object')"
      ]
     },
     "execution_count": 18,
     "metadata": {},
     "output_type": "execute_result"
    }
   ],
   "source": [
    "crop_presence_data.columns"
   ]
  },
  {
   "cell_type": "code",
   "execution_count": 19,
   "metadata": {},
   "outputs": [
    {
     "data": {
      "text/html": [
       "<div>\n",
       "<style scoped>\n",
       "    .dataframe tbody tr th:only-of-type {\n",
       "        vertical-align: middle;\n",
       "    }\n",
       "\n",
       "    .dataframe tbody tr th {\n",
       "        vertical-align: top;\n",
       "    }\n",
       "\n",
       "    .dataframe thead th {\n",
       "        text-align: right;\n",
       "    }\n",
       "</style>\n",
       "<table border=\"1\" class=\"dataframe\">\n",
       "  <thead>\n",
       "    <tr style=\"text-align: right;\">\n",
       "      <th></th>\n",
       "      <th>Class of Land</th>\n",
       "      <th>Latitude</th>\n",
       "      <th>Longitude</th>\n",
       "    </tr>\n",
       "  </thead>\n",
       "  <tbody>\n",
       "    <tr>\n",
       "      <th>0</th>\n",
       "      <td>Rice</td>\n",
       "      <td>10.323727047081501</td>\n",
       "      <td>105.2516346045924</td>\n",
       "    </tr>\n",
       "    <tr>\n",
       "      <th>1</th>\n",
       "      <td>Rice</td>\n",
       "      <td>10.322364360592521</td>\n",
       "      <td>105.27843410554115</td>\n",
       "    </tr>\n",
       "    <tr>\n",
       "      <th>2</th>\n",
       "      <td>Rice</td>\n",
       "      <td>10.321455902933202</td>\n",
       "      <td>105.25254306225168</td>\n",
       "    </tr>\n",
       "    <tr>\n",
       "      <th>3</th>\n",
       "      <td>Rice</td>\n",
       "      <td>10.324181275911162</td>\n",
       "      <td>105.25118037576274</td>\n",
       "    </tr>\n",
       "    <tr>\n",
       "      <th>4</th>\n",
       "      <td>Rice</td>\n",
       "      <td>10.324635504740822</td>\n",
       "      <td>105.27389181724476</td>\n",
       "    </tr>\n",
       "    <tr>\n",
       "      <th>...</th>\n",
       "      <td>...</td>\n",
       "      <td>...</td>\n",
       "      <td>...</td>\n",
       "    </tr>\n",
       "    <tr>\n",
       "      <th>595</th>\n",
       "      <td>Non Rice</td>\n",
       "      <td>10.013942985253381</td>\n",
       "      <td>105.67361318732796</td>\n",
       "    </tr>\n",
       "    <tr>\n",
       "      <th>596</th>\n",
       "      <td>Non Rice</td>\n",
       "      <td>10.01348875642372</td>\n",
       "      <td>105.67361318732796</td>\n",
       "    </tr>\n",
       "    <tr>\n",
       "      <th>597</th>\n",
       "      <td>Non Rice</td>\n",
       "      <td>10.013034527594062</td>\n",
       "      <td>105.67361318732796</td>\n",
       "    </tr>\n",
       "    <tr>\n",
       "      <th>598</th>\n",
       "      <td>Non Rice</td>\n",
       "      <td>10.012580298764401</td>\n",
       "      <td>105.67361318732796</td>\n",
       "    </tr>\n",
       "    <tr>\n",
       "      <th>599</th>\n",
       "      <td>Non Rice</td>\n",
       "      <td>10.012126069934741</td>\n",
       "      <td>105.67361318732796</td>\n",
       "    </tr>\n",
       "  </tbody>\n",
       "</table>\n",
       "<p>600 rows × 3 columns</p>\n",
       "</div>"
      ],
      "text/plain": [
       "    Class of Land            Latitude           Longitude\n",
       "0            Rice  10.323727047081501   105.2516346045924\n",
       "1            Rice  10.322364360592521  105.27843410554115\n",
       "2            Rice  10.321455902933202  105.25254306225168\n",
       "3            Rice  10.324181275911162  105.25118037576274\n",
       "4            Rice  10.324635504740822  105.27389181724476\n",
       "..            ...                 ...                 ...\n",
       "595      Non Rice  10.013942985253381  105.67361318732796\n",
       "596      Non Rice   10.01348875642372  105.67361318732796\n",
       "597      Non Rice  10.013034527594062  105.67361318732796\n",
       "598      Non Rice  10.012580298764401  105.67361318732796\n",
       "599      Non Rice  10.012126069934741  105.67361318732796\n",
       "\n",
       "[600 rows x 3 columns]"
      ]
     },
     "execution_count": 19,
     "metadata": {},
     "output_type": "execute_result"
    }
   ],
   "source": [
    "crop_presence_data"
   ]
  },
  {
   "cell_type": "code",
   "execution_count": null,
   "metadata": {},
   "outputs": [],
   "source": [
    "crop_presence_data.to_excel('class of Land_.xlsx', index=False)"
   ]
  },
  {
   "cell_type": "code",
   "execution_count": null,
   "metadata": {
    "scrolled": true
   },
   "outputs": [
    {
     "name": "stderr",
     "output_type": "stream",
     "text": [
      "\r",
      "  0%|                                                                                            | 0/1 [00:00<?, ?it/s]"
     ]
    }
   ],
   "source": [
    "NDVI_values=[]\n",
    "for coordinates in tqdm(crop_presence_data['Latitude and Longitude']):\n",
    "    lat_long=coordinates.replace('(','').replace(')','').replace(' ','').split(',')\n",
    "    #box_size_deg = 0\n",
    "    min_lon = lat_long[1]\n",
    "    min_lat = lat_long[0]\n",
    "    max_lon = lat_long[1]\n",
    "    max_lat = lat_long[0]\n",
    "    bounds = (min_lon, min_lat, max_lon, max_lat)\n",
    "    time_window=\"2021-12-01/2022-01-31\"\n",
    "    stac = pystac_client.Client.open(\"https://planetarycomputer.microsoft.com/api/stac/v1\")\n",
    "    search = stac.search(collections=[\"sentinel-2-l2a\"], bbox=bounds, datetime=time_window)\n",
    "    items = list(search.get_all_items())\n",
    "    resolution = 20  # meters per pixel \n",
    "    scale = resolution / 111320.0 # degrees per pixel for CRS:4326 \n",
    "    xx = stac_load(\n",
    "    items,\n",
    "    bands=[\"red\", \"nir\", \"SCL\"],\n",
    "    crs=\"EPSG:4326\", # Latitude-Longitude\n",
    "    resolution=scale, # Degrees\n",
    "    chunks={\"x\": 2048, \"y\": 2048},\n",
    "    dtype=\"uint16\",\n",
    "    patch_url=pc.sign,\n",
    "    bbox=bounds)\n",
    "    cloud_mask = \\\n",
    "    (xx.SCL != 0) & \\\n",
    "    (xx.SCL != 1) & \\\n",
    "    (xx.SCL != 3) & \\\n",
    "    (xx.SCL != 6) & \\\n",
    "    (xx.SCL != 8) & \\\n",
    "    (xx.SCL != 9) & \\\n",
    "    (xx.SCL != 10) \n",
    "    cleaned_data = xx.where(cloud_mask).astype(\"uint16\")\n",
    "    mean_unfiltered = xx.mean(dim=['longitude','latitude']).compute()\n",
    "    ndvi_mean = (mean_unfiltered.nir-mean_unfiltered.red)/(mean_unfiltered.nir+mean_unfiltered.red)\n",
    "    mean_clean = cleaned_data.mean(dim=['longitude','latitude']).compute()\n",
    "    ndvi_mean_clean = (mean_clean.nir-mean_clean.red)/(mean_clean.nir+mean_clean.red)\n",
    "    nparray_ndvi_mean_clean=np.array(ndvi_mean_clean.values)\n",
    "    nan_mask = np.isnan(nparray_ndvi_mean_clean)\n",
    "    non_nan_nparray_ndvi_mean_clean = nparray_ndvi_mean_clean[~nan_mask]\n",
    "    NDVI_values.append(non_nan_nparray_ndvi_mean_clean)\n",
    "    print(lat_long)"
   ]
  },
  {
   "cell_type": "code",
   "execution_count": null,
   "metadata": {},
   "outputs": [],
   "source": [
    "NDVI_values"
   ]
  },
  {
   "cell_type": "code",
   "execution_count": null,
   "metadata": {},
   "outputs": [],
   "source": []
  }
 ],
 "metadata": {
  "kernelspec": {
   "display_name": "Python 3 (ipykernel)",
   "language": "python",
   "name": "python3"
  },
  "language_info": {
   "codemirror_mode": {
    "name": "ipython",
    "version": 3
   },
   "file_extension": ".py",
   "mimetype": "text/x-python",
   "name": "python",
   "nbconvert_exporter": "python",
   "pygments_lexer": "ipython3",
   "version": "3.10.11"
  },
  "widgets": {
   "application/vnd.jupyter.widget-state+json": {
    "state": {
     "2ca0804b9f904dab815db80637a4f2d9": {
      "model_module": "@jupyter-widgets/base",
      "model_module_version": "1.2.0",
      "model_name": "LayoutModel",
      "state": {}
     },
     "e2f3ac516e3b4cf3a1ba1fc6aa0897ad": {
      "model_module": "@jupyter-widgets/controls",
      "model_module_version": "1.5.0",
      "model_name": "VBoxModel",
      "state": {
       "layout": "IPY_MODEL_2ca0804b9f904dab815db80637a4f2d9"
      }
     }
    },
    "version_major": 2,
    "version_minor": 0
   }
  }
 },
 "nbformat": 4,
 "nbformat_minor": 4
}
