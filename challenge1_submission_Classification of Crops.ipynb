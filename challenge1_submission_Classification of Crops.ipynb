{
 "cells": [
  {
   "cell_type": "code",
   "execution_count": null,
   "id": "95027867",
   "metadata": {},
   "outputs": [],
   "source": []
  },
  {
   "cell_type": "code",
   "execution_count": 67,
   "id": "d80b7520",
   "metadata": {},
   "outputs": [],
   "source": [
    "import numpy as np\n",
    "import pandas as pd\n",
    "import seaborn as sns\n",
    "import tensorflow as tf\n",
    "import matplotlib.pyplot as plt\n",
    "from sklearn.metrics import accuracy_score\n",
    "from sklearn.metrics import confusion_matrix\n",
    "from sklearn.metrics import classification_report\n",
    "from sklearn.neural_network import MLPClassifier\n",
    "from sklearn.model_selection import train_test_split\n",
    "from sklearn.preprocessing import StandardScaler, LabelEncoder"
   ]
  },
  {
   "cell_type": "code",
   "execution_count": 3,
   "id": "981b1eba",
   "metadata": {},
   "outputs": [
    {
     "data": {
      "text/html": [
       "<div>\n",
       "<style scoped>\n",
       "    .dataframe tbody tr th:only-of-type {\n",
       "        vertical-align: middle;\n",
       "    }\n",
       "\n",
       "    .dataframe tbody tr th {\n",
       "        vertical-align: top;\n",
       "    }\n",
       "\n",
       "    .dataframe thead th {\n",
       "        text-align: right;\n",
       "    }\n",
       "</style>\n",
       "<table border=\"1\" class=\"dataframe\">\n",
       "  <thead>\n",
       "    <tr style=\"text-align: right;\">\n",
       "      <th></th>\n",
       "      <th>vh</th>\n",
       "      <th>vv</th>\n",
       "      <th>rvi</th>\n",
       "      <th>Class of Land</th>\n",
       "    </tr>\n",
       "  </thead>\n",
       "  <tbody>\n",
       "    <tr>\n",
       "      <th>0</th>\n",
       "      <td>0.004995</td>\n",
       "      <td>0.024897</td>\n",
       "      <td>0.273221</td>\n",
       "      <td>Rice</td>\n",
       "    </tr>\n",
       "    <tr>\n",
       "      <th>1</th>\n",
       "      <td>0.006445</td>\n",
       "      <td>0.014929</td>\n",
       "      <td>0.662291</td>\n",
       "      <td>Rice</td>\n",
       "    </tr>\n",
       "    <tr>\n",
       "      <th>2</th>\n",
       "      <td>0.004582</td>\n",
       "      <td>0.015984</td>\n",
       "      <td>0.420591</td>\n",
       "      <td>Rice</td>\n",
       "    </tr>\n",
       "    <tr>\n",
       "      <th>3</th>\n",
       "      <td>0.009719</td>\n",
       "      <td>0.085088</td>\n",
       "      <td>0.131287</td>\n",
       "      <td>Rice</td>\n",
       "    </tr>\n",
       "    <tr>\n",
       "      <th>4</th>\n",
       "      <td>0.007880</td>\n",
       "      <td>0.048904</td>\n",
       "      <td>0.206768</td>\n",
       "      <td>Rice</td>\n",
       "    </tr>\n",
       "    <tr>\n",
       "      <th>...</th>\n",
       "      <td>...</td>\n",
       "      <td>...</td>\n",
       "      <td>...</td>\n",
       "      <td>...</td>\n",
       "    </tr>\n",
       "    <tr>\n",
       "      <th>595</th>\n",
       "      <td>0.150695</td>\n",
       "      <td>0.311782</td>\n",
       "      <td>0.743997</td>\n",
       "      <td>Non Rice</td>\n",
       "    </tr>\n",
       "    <tr>\n",
       "      <th>596</th>\n",
       "      <td>0.029849</td>\n",
       "      <td>0.418632</td>\n",
       "      <td>0.068680</td>\n",
       "      <td>Non Rice</td>\n",
       "    </tr>\n",
       "    <tr>\n",
       "      <th>597</th>\n",
       "      <td>0.051806</td>\n",
       "      <td>0.358220</td>\n",
       "      <td>0.179645</td>\n",
       "      <td>Non Rice</td>\n",
       "    </tr>\n",
       "    <tr>\n",
       "      <th>598</th>\n",
       "      <td>0.044750</td>\n",
       "      <td>0.214329</td>\n",
       "      <td>0.287142</td>\n",
       "      <td>Non Rice</td>\n",
       "    </tr>\n",
       "    <tr>\n",
       "      <th>599</th>\n",
       "      <td>0.101507</td>\n",
       "      <td>0.140344</td>\n",
       "      <td>1.087637</td>\n",
       "      <td>Non Rice</td>\n",
       "    </tr>\n",
       "  </tbody>\n",
       "</table>\n",
       "<p>600 rows × 4 columns</p>\n",
       "</div>"
      ],
      "text/plain": [
       "           vh        vv       rvi Class of Land\n",
       "0    0.004995  0.024897  0.273221          Rice\n",
       "1    0.006445  0.014929  0.662291          Rice\n",
       "2    0.004582  0.015984  0.420591          Rice\n",
       "3    0.009719  0.085088  0.131287          Rice\n",
       "4    0.007880  0.048904  0.206768          Rice\n",
       "..        ...       ...       ...           ...\n",
       "595  0.150695  0.311782  0.743997      Non Rice\n",
       "596  0.029849  0.418632  0.068680      Non Rice\n",
       "597  0.051806  0.358220  0.179645      Non Rice\n",
       "598  0.044750  0.214329  0.287142      Non Rice\n",
       "599  0.101507  0.140344  1.087637      Non Rice\n",
       "\n",
       "[600 rows x 4 columns]"
      ]
     },
     "execution_count": 3,
     "metadata": {},
     "output_type": "execute_result"
    }
   ],
   "source": [
    "df = pd.read_csv('train_vv_vh_rvi_rice_nonrice.csv')\n",
    "df"
   ]
  },
  {
   "cell_type": "code",
   "execution_count": 4,
   "id": "bbbc5fd6",
   "metadata": {},
   "outputs": [],
   "source": [
    "X = df[['vv', 'vh', 'rvi']]\n",
    "y = df['Class of Land']"
   ]
  },
  {
   "cell_type": "code",
   "execution_count": 13,
   "id": "42d0b3ad",
   "metadata": {},
   "outputs": [
    {
     "data": {
      "text/plain": [
       "array([[-0.82573874, -0.63580739, -0.17790958],\n",
       "       [-0.88569988, -0.59367219,  1.04095445],\n",
       "       [-0.87935371, -0.647816  ,  0.28376465],\n",
       "       ...,\n",
       "       [ 1.1793822 ,  0.72437965, -0.47106351],\n",
       "       [ 0.313798  ,  0.51933945, -0.13430045],\n",
       "       [-0.13126261,  2.16854634,  2.37346117]])"
      ]
     },
     "execution_count": 13,
     "metadata": {},
     "output_type": "execute_result"
    }
   ],
   "source": [
    "X"
   ]
  },
  {
   "cell_type": "code",
   "execution_count": 19,
   "id": "c4ce3821",
   "metadata": {},
   "outputs": [
    {
     "data": {
      "text/plain": [
       "0          Rice\n",
       "1          Rice\n",
       "2          Rice\n",
       "3          Rice\n",
       "4          Rice\n",
       "         ...   \n",
       "595    Non Rice\n",
       "596    Non Rice\n",
       "597    Non Rice\n",
       "598    Non Rice\n",
       "599    Non Rice\n",
       "Name: Class of Land, Length: 600, dtype: object"
      ]
     },
     "execution_count": 19,
     "metadata": {},
     "output_type": "execute_result"
    }
   ],
   "source": [
    "y"
   ]
  },
  {
   "cell_type": "code",
   "execution_count": 20,
   "id": "1a7fc107",
   "metadata": {
    "scrolled": true
   },
   "outputs": [
    {
     "name": "stderr",
     "output_type": "stream",
     "text": [
      "C:\\Users\\Dipendu Gupta\\AppData\\Local\\Temp\\ipykernel_2932\\2198684976.py:3: SettingWithCopyWarning: \n",
      "A value is trying to be set on a copy of a slice from a DataFrame\n",
      "\n",
      "See the caveats in the documentation: https://pandas.pydata.org/pandas-docs/stable/user_guide/indexing.html#returning-a-view-versus-a-copy\n",
      "  y[i]=1\n",
      "C:\\Users\\Dipendu Gupta\\AppData\\Local\\Temp\\ipykernel_2932\\2198684976.py:5: SettingWithCopyWarning: \n",
      "A value is trying to be set on a copy of a slice from a DataFrame\n",
      "\n",
      "See the caveats in the documentation: https://pandas.pydata.org/pandas-docs/stable/user_guide/indexing.html#returning-a-view-versus-a-copy\n",
      "  y[i]=0\n"
     ]
    }
   ],
   "source": [
    "for i in range(len(y)):\n",
    "    if y[i] ==\"Rice\":\n",
    "        y[i]=1\n",
    "    else:\n",
    "        y[i]=0          "
   ]
  },
  {
   "cell_type": "code",
   "execution_count": 30,
   "id": "ffd93978",
   "metadata": {},
   "outputs": [
    {
     "data": {
      "text/plain": [
       "0      1\n",
       "1      1\n",
       "2      1\n",
       "3      1\n",
       "4      1\n",
       "      ..\n",
       "595    0\n",
       "596    0\n",
       "597    0\n",
       "598    0\n",
       "599    0\n",
       "Name: Class of Land, Length: 600, dtype: object"
      ]
     },
     "execution_count": 30,
     "metadata": {},
     "output_type": "execute_result"
    }
   ],
   "source": [
    "y"
   ]
  },
  {
   "cell_type": "code",
   "execution_count": 41,
   "id": "b0f19752",
   "metadata": {},
   "outputs": [
    {
     "data": {
      "text/plain": [
       "0      1\n",
       "1      1\n",
       "2      1\n",
       "3      1\n",
       "4      1\n",
       "      ..\n",
       "595    0\n",
       "596    0\n",
       "597    0\n",
       "598    0\n",
       "599    0\n",
       "Name: Class of Land, Length: 600, dtype: int32"
      ]
     },
     "execution_count": 41,
     "metadata": {},
     "output_type": "execute_result"
    }
   ],
   "source": [
    "y=y.astype(str).astype(int)\n",
    "y"
   ]
  },
  {
   "cell_type": "code",
   "execution_count": 42,
   "id": "0b5b6ef7",
   "metadata": {},
   "outputs": [],
   "source": [
    "scaler = StandardScaler()\n",
    "X = scaler.fit_transform(X)"
   ]
  },
  {
   "cell_type": "code",
   "execution_count": 43,
   "id": "bf804995",
   "metadata": {},
   "outputs": [
    {
     "data": {
      "text/plain": [
       "array([[-0.82573874, -0.63580739, -0.17790958],\n",
       "       [-0.88569988, -0.59367219,  1.04095445],\n",
       "       [-0.87935371, -0.647816  ,  0.28376465],\n",
       "       ...,\n",
       "       [ 1.1793822 ,  0.72437965, -0.47106351],\n",
       "       [ 0.313798  ,  0.51933945, -0.13430045],\n",
       "       [-0.13126261,  2.16854634,  2.37346117]])"
      ]
     },
     "execution_count": 43,
     "metadata": {},
     "output_type": "execute_result"
    }
   ],
   "source": [
    "X"
   ]
  },
  {
   "cell_type": "code",
   "execution_count": 44,
   "id": "892a8362",
   "metadata": {},
   "outputs": [],
   "source": [
    "X_train, X_test, y_train, y_test = train_test_split(X, y, test_size=0.2, random_state=42)"
   ]
  },
  {
   "cell_type": "code",
   "execution_count": 45,
   "id": "8c91b6b1",
   "metadata": {},
   "outputs": [
    {
     "data": {
      "text/plain": [
       "145    1\n",
       "9      1\n",
       "375    0\n",
       "523    0\n",
       "188    1\n",
       "      ..\n",
       "71     1\n",
       "106    1\n",
       "270    1\n",
       "435    0\n",
       "102    1\n",
       "Name: Class of Land, Length: 480, dtype: int32"
      ]
     },
     "execution_count": 45,
     "metadata": {},
     "output_type": "execute_result"
    }
   ],
   "source": [
    "y_train"
   ]
  },
  {
   "cell_type": "code",
   "execution_count": 46,
   "id": "8e5f4102",
   "metadata": {},
   "outputs": [
    {
     "data": {
      "text/plain": [
       "array([[-0.59964458, -0.65956672, -0.83727358],\n",
       "       [-0.4847813 , -0.38355973, -0.35211477],\n",
       "       [ 0.1680932 ,  0.43303292, -0.07551723],\n",
       "       ...,\n",
       "       [-0.3618487 , -0.66982526, -0.94777982],\n",
       "       [-0.83337188, -0.65502304, -0.26929317],\n",
       "       [-0.86437969, -0.50498376,  1.44541496]])"
      ]
     },
     "execution_count": 46,
     "metadata": {},
     "output_type": "execute_result"
    }
   ],
   "source": [
    "X_train"
   ]
  },
  {
   "cell_type": "code",
   "execution_count": 47,
   "id": "1a52bb83",
   "metadata": {},
   "outputs": [
    {
     "data": {
      "text/plain": [
       "110    1\n",
       "419    0\n",
       "565    0\n",
       "77     1\n",
       "181    1\n",
       "      ..\n",
       "399    0\n",
       "340    0\n",
       "148    1\n",
       "494    0\n",
       "439    0\n",
       "Name: Class of Land, Length: 120, dtype: int32"
      ]
     },
     "execution_count": 47,
     "metadata": {},
     "output_type": "execute_result"
    }
   ],
   "source": [
    "y_test"
   ]
  },
  {
   "cell_type": "code",
   "execution_count": 48,
   "id": "5e87b448",
   "metadata": {},
   "outputs": [
    {
     "data": {
      "text/plain": [
       "array([[-0.34188265, -0.2811957 , -0.37486318],\n",
       "       [-0.83543404, -0.57414186,  0.38546535],\n",
       "       [-0.06470464,  0.05780292, -0.23094883],\n",
       "       [-0.67005024, -0.48546795, -0.17982931],\n",
       "       [ 2.97817232, -0.35813922, -0.99390148],\n",
       "       [ 0.4518489 , -0.38728428, -0.8765444 ],\n",
       "       [-0.67273898, -0.62093084, -0.64574244],\n",
       "       [ 0.26521144,  0.60574393, -0.01315542],\n",
       "       [-0.76103789, -0.5495264 , -0.05611002],\n",
       "       [ 1.28169448,  2.92914407,  0.5692242 ],\n",
       "       [-0.80440752, -0.65596648, -0.43728687],\n",
       "       [-0.69641319, -0.62388587, -0.61147444],\n",
       "       [-0.80254683, -0.652613  , -0.4249997 ],\n",
       "       [-0.11531058,  3.14789842,  3.21192561],\n",
       "       [-0.33891821,  0.36346461,  0.73623674],\n",
       "       [ 0.00970792,  1.2222158 ,  0.98658169],\n",
       "       [-0.52824505, -0.44989709, -0.42691664],\n",
       "       [-0.57377361, -0.69033777, -0.9157822 ],\n",
       "       [-0.80385183, -0.6266547 , -0.25515802],\n",
       "       [-0.42533286, -0.47875799, -0.62503232],\n",
       "       [-0.87935371, -0.647816  ,  0.28376465],\n",
       "       [ 0.57865085,  0.86986943, -0.07479264],\n",
       "       [-0.92317392, -0.68094725,  0.85713186],\n",
       "       [ 1.54279666,  0.08636346, -0.81868929],\n",
       "       [ 0.6773401 , -0.16390415, -0.79305091],\n",
       "       [-0.87195109, -0.65296526,  0.11841275],\n",
       "       [-0.70693777, -0.61696313, -0.5627787 ],\n",
       "       [-0.65658874, -0.45150326, -0.10719229],\n",
       "       [ 0.79978418, -0.0145425 , -0.73937743],\n",
       "       [-0.78722873, -0.52232892,  0.27162241],\n",
       "       [ 0.90003619,  3.59777567,  1.29691977],\n",
       "       [-0.92559789, -0.66109735,  1.36379788],\n",
       "       [-0.13591997, -0.47164905, -0.79746995],\n",
       "       [ 0.89298897, -0.01719563, -0.76076348],\n",
       "       [-0.43055204, -0.62482726, -0.86784177],\n",
       "       [-0.05486473,  1.28122055,  1.20068347],\n",
       "       [-0.49730976, -0.54983787, -0.69012374],\n",
       "       [-0.77847373, -0.6778234 , -0.65083736],\n",
       "       [-0.88341503, -0.71538446, -0.45699053],\n",
       "       [-0.88081467, -0.73966536, -0.73542472],\n",
       "       [-0.21376704,  0.76114141,  0.97734814],\n",
       "       [-0.91859892, -0.75242718, -0.67278676],\n",
       "       [-0.90833331, -0.62041537,  1.35226984],\n",
       "       [-0.09588836,  0.77594753,  0.70632038],\n",
       "       [-0.65860073, -0.57957527, -0.53713672],\n",
       "       [ 0.42585033,  0.1463137 , -0.50979986],\n",
       "       [ 0.39582896,  0.84907777,  0.06587222],\n",
       "       [-0.53589361, -0.56381234, -0.6797856 ],\n",
       "       [-0.8379354 , -0.59095901,  0.27983915],\n",
       "       [ 0.39090402,  0.79209773,  0.02420766],\n",
       "       [ 0.89121502,  0.63199776, -0.4090171 ],\n",
       "       [-0.42060343, -0.12476053,  0.05905274],\n",
       "       [-0.93143029, -0.2315268 ,  6.63315161],\n",
       "       [ 0.54004952,  0.54591174, -0.28068068],\n",
       "       [-0.01436323,  1.00356276,  0.7994792 ],\n",
       "       [ 0.7505368 ,  1.39861999,  0.14841024],\n",
       "       [ 0.89923213,  0.22069633, -0.63998882],\n",
       "       [ 0.93099922, -0.53470861, -0.98118431],\n",
       "       [-0.74623084, -0.43831829,  0.40533716],\n",
       "       [ 0.78414669,  0.2246159 , -0.60266931],\n",
       "       [-0.26689649, -0.62444321, -0.91927965],\n",
       "       [-0.34783009, -0.60462307, -0.87239266],\n",
       "       [ 0.42758879,  0.00944652, -0.61088807],\n",
       "       [-0.8549478 , -0.68070012, -0.32861812],\n",
       "       [-0.85058885, -0.52696091,  0.98651842],\n",
       "       [-0.93907428, -0.69807268,  1.23595027],\n",
       "       [ 1.35212797,  1.59110387, -0.12260081],\n",
       "       [ 0.07391842,  0.60335432,  0.21111165],\n",
       "       [-0.55676771, -0.58203563, -0.69812471],\n",
       "       [ 0.93836663,  1.88766585,  0.29468777],\n",
       "       [ 0.17535421,  0.13679103, -0.36545971],\n",
       "       [ 0.19760551, -0.53994704, -0.93059488],\n",
       "       [-0.91644117, -0.6460326 ,  1.24561509],\n",
       "       [ 0.35706565,  0.10144582, -0.50929342],\n",
       "       [-0.92382656, -0.65507903,  1.39788456],\n",
       "       [-0.82633692, -0.49989767,  0.82874239],\n",
       "       [ 0.87969805,  0.1880464 , -0.65187604],\n",
       "       [ 1.59993511, -0.30939004, -0.94638726],\n",
       "       [ 0.12682511,  0.05273618, -0.40968489],\n",
       "       [-0.88067916, -0.65387503,  0.23430246],\n",
       "       [-0.43570479, -0.60761913, -0.83884631],\n",
       "       [-0.84856696, -0.63132589,  0.05472534],\n",
       "       [ 0.313798  ,  0.51933945, -0.13430045],\n",
       "       [ 0.29221737,  1.32415066,  0.5876162 ],\n",
       "       [ 0.11515576,  0.37864603, -0.07367666],\n",
       "       [ 0.15955322, -0.48028182, -0.88530974],\n",
       "       [ 0.69268698, -0.60177285, -0.99364669],\n",
       "       [-0.55977011, -0.64795216, -0.83986735],\n",
       "       [-0.2079935 ,  0.60748504,  0.74836812],\n",
       "       [ 1.58179312, -0.58823443, -1.00998969],\n",
       "       [ 1.98778475,  0.07114758, -0.86695942],\n",
       "       [-0.84368868, -0.6614361 , -0.24663737],\n",
       "       [-0.89813157, -0.57719525,  1.5921543 ],\n",
       "       [-0.09033184, -0.03492914, -0.31632599],\n",
       "       [-0.64553953, -0.44469779, -0.1226671 ],\n",
       "       [ 0.02526033, -0.13706017, -0.52886277],\n",
       "       [-0.69881327, -0.66861661, -0.76334078],\n",
       "       [-0.5927138 , -0.58959354, -0.67395836],\n",
       "       [-0.66213651, -0.48314375, -0.19858475],\n",
       "       [-0.92218606, -0.59159004,  2.42198882],\n",
       "       [ 0.0625974 , -0.49544101, -0.87717004],\n",
       "       [ 0.67882039, -0.35728861, -0.89228097],\n",
       "       [-0.88907847, -0.63973649,  0.55840617],\n",
       "       [ 0.87558237, -0.19314392, -0.84186859],\n",
       "       [-0.79812963, -0.53041359,  0.31469332],\n",
       "       [-0.90147995, -0.73162732, -0.50511043],\n",
       "       [-0.72418793, -0.71267206, -0.87989092],\n",
       "       [-0.49354972, -0.70408511, -0.96225133],\n",
       "       [ 1.18859761, -0.3920243 , -0.94871346],\n",
       "       [-0.85375979, -0.32407304,  2.58883639],\n",
       "       [ 2.63222971, -0.59551495, -1.02030938],\n",
       "       [ 2.47116889,  3.43850691,  0.10549152],\n",
       "       [ 0.48170856,  0.14075076, -0.5401521 ],\n",
       "       [ 0.50143214,  0.24288522, -0.47671023],\n",
       "       [-0.31518647,  0.70231687,  1.20717481],\n",
       "       [ 1.74357696,  1.68336939, -0.24695418],\n",
       "       [ 0.93816728,  4.58890358,  1.75741502],\n",
       "       [ 0.94184246,  1.44481025,  0.03492788],\n",
       "       [-0.29977913,  1.66775587,  2.48282314],\n",
       "       [-0.94547322, -0.68833316,  2.01371495]])"
      ]
     },
     "execution_count": 48,
     "metadata": {},
     "output_type": "execute_result"
    }
   ],
   "source": [
    "X_test"
   ]
  },
  {
   "cell_type": "code",
   "execution_count": 49,
   "id": "d3cd83f4",
   "metadata": {},
   "outputs": [
    {
     "data": {
      "text/plain": [
       "MLPClassifier(hidden_layer_sizes=(100, 50), max_iter=500, random_state=42)"
      ]
     },
     "execution_count": 49,
     "metadata": {},
     "output_type": "execute_result"
    }
   ],
   "source": [
    "model = MLPClassifier(hidden_layer_sizes=(100, 50), max_iter=500, activation='relu', solver='adam', random_state=42)\n",
    "model.fit(X_train, y_train)"
   ]
  },
  {
   "cell_type": "markdown",
   "id": "6a30e2b3",
   "metadata": {},
   "source": [
    "Insample Evaluation"
   ]
  },
  {
   "cell_type": "code",
   "execution_count": 51,
   "id": "18ad4944",
   "metadata": {
    "scrolled": true
   },
   "outputs": [
    {
     "data": {
      "text/plain": [
       "array([1, 1, 0, 1, 1, 1, 0, 1, 0, 0, 0, 0, 1, 1, 0, 1, 0, 1, 1, 1, 1, 1,\n",
       "       1, 1, 0, 1, 0, 0, 1, 1, 0, 0, 0, 0, 0, 1, 1, 1, 1, 1, 0, 1, 0, 0,\n",
       "       0, 1, 1, 1, 0, 0, 1, 1, 0, 0, 1, 1, 0, 1, 1, 1, 0, 1, 0, 0, 1, 0,\n",
       "       0, 0, 0, 1, 0, 0, 1, 0, 1, 1, 0, 0, 0, 1, 1, 0, 0, 1, 1, 1, 1, 1,\n",
       "       0, 0, 0, 0, 0, 1, 1, 1, 0, 1, 0, 1, 1, 0, 1, 0, 0, 0, 0, 0, 1, 0,\n",
       "       1, 0, 1, 0, 0, 0, 0, 1, 1, 1, 0, 0, 0, 1, 0, 0, 1, 1, 0, 1, 1, 1,\n",
       "       1, 0, 1, 1, 0, 1, 0, 1, 1, 0, 0, 1, 0, 0, 1, 1, 1, 1, 0, 0, 1, 1,\n",
       "       0, 0, 0, 1, 1, 0, 0, 1, 0, 0, 0, 1, 1, 1, 0, 0, 1, 1, 0, 1, 1, 1,\n",
       "       0, 1, 1, 0, 1, 0, 0, 0, 0, 0, 1, 0, 1, 1, 1, 0, 1, 0, 0, 1, 0, 1,\n",
       "       0, 0, 1, 0, 1, 0, 0, 1, 0, 0, 0, 0, 0, 1, 0, 1, 0, 0, 1, 1, 0, 0,\n",
       "       1, 0, 1, 1, 1, 0, 0, 0, 0, 1, 1, 0, 1, 0, 0, 1, 0, 0, 1, 0, 1, 0,\n",
       "       1, 1, 1, 1, 1, 0, 1, 1, 0, 1, 1, 1, 0, 1, 0, 0, 0, 1, 0, 0, 1, 0,\n",
       "       1, 0, 1, 1, 0, 1, 0, 1, 0, 0, 0, 1, 0, 1, 1, 0, 0, 0, 0, 0, 1, 0,\n",
       "       0, 0, 0, 0, 0, 1, 0, 0, 1, 0, 1, 1, 1, 0, 1, 1, 1, 1, 0, 0, 0, 1,\n",
       "       0, 0, 0, 0, 0, 1, 0, 1, 1, 0, 0, 1, 0, 1, 1, 1, 1, 0, 1, 1, 0, 1,\n",
       "       1, 0, 0, 1, 0, 1, 0, 0, 1, 0, 1, 1, 1, 0, 1, 1, 1, 0, 1, 1, 0, 1,\n",
       "       1, 0, 1, 1, 0, 1, 1, 1, 1, 0, 1, 0, 1, 1, 0, 0, 0, 1, 0, 1, 1, 1,\n",
       "       1, 1, 0, 0, 1, 1, 1, 0, 1, 1, 1, 0, 0, 1, 0, 0, 0, 1, 0, 0, 0, 0,\n",
       "       1, 1, 1, 0, 0, 1, 1, 1, 1, 0, 0, 1, 1, 0, 0, 1, 1, 0, 0, 0, 0, 1,\n",
       "       1, 0, 0, 1, 0, 0, 0, 1, 1, 0, 0, 0, 0, 0, 1, 0, 1, 1, 0, 0, 0, 0,\n",
       "       1, 0, 1, 0, 0, 1, 0, 1, 0, 1, 1, 0, 0, 1, 0, 0, 0, 1, 0, 1, 0, 1,\n",
       "       0, 0, 0, 0, 1, 0, 0, 0, 0, 1, 0, 0, 1, 0, 1, 1, 1, 1])"
      ]
     },
     "execution_count": 51,
     "metadata": {},
     "output_type": "execute_result"
    }
   ],
   "source": [
    "insample_predictions = model.predict(X_train)\n",
    "insample_predictions"
   ]
  },
  {
   "cell_type": "code",
   "execution_count": 58,
   "id": "3244a79e",
   "metadata": {},
   "outputs": [
    {
     "name": "stdout",
     "output_type": "stream",
     "text": [
      "Insample Accuracy 83.75%\n",
      "              precision    recall  f1-score   support\n",
      "\n",
      "           0       0.85      0.83      0.84       246\n",
      "           1       0.83      0.84      0.83       234\n",
      "\n",
      "    accuracy                           0.84       480\n",
      "   macro avg       0.84      0.84      0.84       480\n",
      "weighted avg       0.84      0.84      0.84       480\n",
      "\n"
     ]
    }
   ],
   "source": [
    "print(\"Insample Accuracy {0:.2f}%\".format(100*accuracy_score(insample_predictions,y_train)))\n",
    "print(classification_report(insample_predictions,y_train))"
   ]
  },
  {
   "cell_type": "code",
   "execution_count": 61,
   "id": "5136e619",
   "metadata": {},
   "outputs": [],
   "source": [
    "def plot_confusion_matrix(true_value,predicted_value,title,labels):\n",
    "    '''\n",
    "    Plots a confusion matrix.\n",
    "    Attributes:\n",
    "    true_value - The ground truth value for comparision.\n",
    "    predicted_value - The values predicted by the model.\n",
    "    title - Title of the plot.\n",
    "    labels - The x and y labels of the plot.\n",
    "    '''\n",
    "    cm = confusion_matrix(true_value,predicted_value)\n",
    "    ax= plt.subplot()\n",
    "    sns.heatmap(cm, annot=True, fmt='g', ax=ax, cmap='Blues');\n",
    "    ax.set_xlabel('Predicted labels');\n",
    "    ax.set_ylabel('True labels'); \n",
    "    ax.set_title(title); \n",
    "    ax.xaxis.set_ticklabels(labels); \n",
    "    ax.yaxis.set_ticklabels(labels);"
   ]
  },
  {
   "cell_type": "code",
   "execution_count": 68,
   "id": "df7d7fe8",
   "metadata": {},
   "outputs": [
    {
     "data": {
      "image/png": "[encoded data removed]",
      "text/plain": [
       "<Figure size 432x288 with 2 Axes>"
      ]
     },
     "metadata": {
      "needs_background": "light"
     },
     "output_type": "display_data"
    }
   ],
   "source": [
    "plot_confusion_matrix(y_train,insample_predictions,\"Model Level 1: Logistic\\nRegression Model In-Sample Results\",['Rice', 'Non Rice'])"
   ]
  },
  {
   "cell_type": "markdown",
   "id": "d23e3015",
   "metadata": {},
   "source": [
    "Out-Sample Evaluation"
   ]
  },
  {
   "cell_type": "code",
   "execution_count": 69,
   "id": "6f724565",
   "metadata": {},
   "outputs": [],
   "source": [
    "outsample_predictions = model.predict(X_test)"
   ]
  },
  {
   "cell_type": "code",
   "execution_count": 70,
   "id": "660d860e",
   "metadata": {},
   "outputs": [
    {
     "name": "stdout",
     "output_type": "stream",
     "text": [
      "Accuracy 78.33%\n",
      "              precision    recall  f1-score   support\n",
      "\n",
      "           0       0.77      0.79      0.78        58\n",
      "           1       0.80      0.77      0.79        62\n",
      "\n",
      "    accuracy                           0.78       120\n",
      "   macro avg       0.78      0.78      0.78       120\n",
      "weighted avg       0.78      0.78      0.78       120\n",
      "\n"
     ]
    }
   ],
   "source": [
    "print(\"Accuracy {0:.2f}%\".format(100*accuracy_score(outsample_predictions, y_test)))\n",
    "print(classification_report(y_test, outsample_predictions))"
   ]
  },
  {
   "cell_type": "code",
   "execution_count": 71,
   "id": "8f8ecb79",
   "metadata": {},
   "outputs": [
    {
     "data": {
      "image/png": "[encoded data removed]",
      "text/plain": [
       "<Figure size 432x288 with 2 Axes>"
      ]
     },
     "metadata": {
      "needs_background": "light"
     },
     "output_type": "display_data"
    }
   ],
   "source": [
    "plot_confusion_matrix(y_test, outsample_predictions,\"Model Level 1: Logistic\\nRegression Model Out-Sample Results\",['Rice', 'Non Rice'])"
   ]
  },
  {
   "cell_type": "markdown",
   "id": "47eb7efd",
   "metadata": {},
   "source": [
    "Submission"
   ]
  },
  {
   "cell_type": "code",
   "execution_count": 114,
   "id": "83f81837",
   "metadata": {},
   "outputs": [
    {
     "data": {
      "text/html": [
       "<div>\n",
       "<style scoped>\n",
       "    .dataframe tbody tr th:only-of-type {\n",
       "        vertical-align: middle;\n",
       "    }\n",
       "\n",
       "    .dataframe tbody tr th {\n",
       "        vertical-align: top;\n",
       "    }\n",
       "\n",
       "    .dataframe thead th {\n",
       "        text-align: right;\n",
       "    }\n",
       "</style>\n",
       "<table border=\"1\" class=\"dataframe\">\n",
       "  <thead>\n",
       "    <tr style=\"text-align: right;\">\n",
       "      <th></th>\n",
       "      <th>vh</th>\n",
       "      <th>vv</th>\n",
       "      <th>rvi</th>\n",
       "    </tr>\n",
       "  </thead>\n",
       "  <tbody>\n",
       "    <tr>\n",
       "      <th>0</th>\n",
       "      <td>0.005370</td>\n",
       "      <td>0.046234</td>\n",
       "      <td>0.134282</td>\n",
       "    </tr>\n",
       "    <tr>\n",
       "      <th>1</th>\n",
       "      <td>0.006542</td>\n",
       "      <td>0.010504</td>\n",
       "      <td>0.951015</td>\n",
       "    </tr>\n",
       "    <tr>\n",
       "      <th>2</th>\n",
       "      <td>0.030851</td>\n",
       "      <td>0.171222</td>\n",
       "      <td>0.238619</td>\n",
       "    </tr>\n",
       "    <tr>\n",
       "      <th>3</th>\n",
       "      <td>0.005141</td>\n",
       "      <td>0.003915</td>\n",
       "      <td>1.710918</td>\n",
       "    </tr>\n",
       "    <tr>\n",
       "      <th>4</th>\n",
       "      <td>0.010332</td>\n",
       "      <td>0.133306</td>\n",
       "      <td>0.077162</td>\n",
       "    </tr>\n",
       "    <tr>\n",
       "      <th>...</th>\n",
       "      <td>...</td>\n",
       "      <td>...</td>\n",
       "      <td>...</td>\n",
       "    </tr>\n",
       "    <tr>\n",
       "      <th>245</th>\n",
       "      <td>0.004080</td>\n",
       "      <td>0.012206</td>\n",
       "      <td>0.501520</td>\n",
       "    </tr>\n",
       "    <tr>\n",
       "      <th>246</th>\n",
       "      <td>0.005468</td>\n",
       "      <td>0.011692</td>\n",
       "      <td>0.719520</td>\n",
       "    </tr>\n",
       "    <tr>\n",
       "      <th>247</th>\n",
       "      <td>0.005200</td>\n",
       "      <td>0.010164</td>\n",
       "      <td>0.787660</td>\n",
       "    </tr>\n",
       "    <tr>\n",
       "      <th>248</th>\n",
       "      <td>0.026421</td>\n",
       "      <td>0.129581</td>\n",
       "      <td>0.278796</td>\n",
       "    </tr>\n",
       "    <tr>\n",
       "      <th>249</th>\n",
       "      <td>0.035378</td>\n",
       "      <td>0.073925</td>\n",
       "      <td>0.736571</td>\n",
       "    </tr>\n",
       "  </tbody>\n",
       "</table>\n",
       "<p>250 rows × 3 columns</p>\n",
       "</div>"
      ],
      "text/plain": [
       "           vh        vv       rvi\n",
       "0    0.005370  0.046234  0.134282\n",
       "1    0.006542  0.010504  0.951015\n",
       "2    0.030851  0.171222  0.238619\n",
       "3    0.005141  0.003915  1.710918\n",
       "4    0.010332  0.133306  0.077162\n",
       "..        ...       ...       ...\n",
       "245  0.004080  0.012206  0.501520\n",
       "246  0.005468  0.011692  0.719520\n",
       "247  0.005200  0.010164  0.787660\n",
       "248  0.026421  0.129581  0.278796\n",
       "249  0.035378  0.073925  0.736571\n",
       "\n",
       "[250 rows x 3 columns]"
      ]
     },
     "execution_count": 114,
     "metadata": {},
     "output_type": "execute_result"
    }
   ],
   "source": [
    "df2 = pd.read_csv('submission_vv_vh_rvi_rice_nonrice.csv')\n",
    "df2"
   ]
  },
  {
   "cell_type": "code",
   "execution_count": 115,
   "id": "0fed414a",
   "metadata": {},
   "outputs": [],
   "source": [
    "# Feature Scaling \n",
    "df3 = scaler.fit_transform(df2)"
   ]
  },
  {
   "cell_type": "code",
   "execution_count": 116,
   "id": "3efc414b",
   "metadata": {},
   "outputs": [],
   "source": [
    "#Making predictions\n",
    "final_predictions = model.predict(df3)\n",
    "final_prediction_series = pd.Series(final_predictions)"
   ]
  },
  {
   "cell_type": "code",
   "execution_count": 117,
   "id": "a273c524",
   "metadata": {},
   "outputs": [],
   "source": [
    "#Combining the results into dataframe\n",
    "temp_submission_df = pd.DataFrame({'Latitude and Longitude':test_file['Latitude and Longitude'].values, 'Class of Land':final_prediction_series.values})"
   ]
  },
  {
   "cell_type": "code",
   "execution_count": 118,
   "id": "6541469e",
   "metadata": {},
   "outputs": [
    {
     "data": {
      "text/html": [
       "<div>\n",
       "<style scoped>\n",
       "    .dataframe tbody tr th:only-of-type {\n",
       "        vertical-align: middle;\n",
       "    }\n",
       "\n",
       "    .dataframe tbody tr th {\n",
       "        vertical-align: top;\n",
       "    }\n",
       "\n",
       "    .dataframe thead th {\n",
       "        text-align: right;\n",
       "    }\n",
       "</style>\n",
       "<table border=\"1\" class=\"dataframe\">\n",
       "  <thead>\n",
       "    <tr style=\"text-align: right;\">\n",
       "      <th></th>\n",
       "      <th>Latitude and Longitude</th>\n",
       "    </tr>\n",
       "  </thead>\n",
       "  <tbody>\n",
       "    <tr>\n",
       "      <th>0</th>\n",
       "      <td>(10.18019073690894, 105.32022315786804)</td>\n",
       "    </tr>\n",
       "    <tr>\n",
       "      <th>1</th>\n",
       "      <td>(10.561107033461816, 105.12772097986661)</td>\n",
       "    </tr>\n",
       "    <tr>\n",
       "      <th>2</th>\n",
       "      <td>(10.623790611954897, 105.13771401411867)</td>\n",
       "    </tr>\n",
       "    <tr>\n",
       "      <th>3</th>\n",
       "      <td>(10.583364246115156, 105.23946127195805)</td>\n",
       "    </tr>\n",
       "    <tr>\n",
       "      <th>4</th>\n",
       "      <td>(10.20744446668854, 105.26844107128906)</td>\n",
       "    </tr>\n",
       "    <tr>\n",
       "      <th>...</th>\n",
       "      <td>...</td>\n",
       "    </tr>\n",
       "    <tr>\n",
       "      <th>245</th>\n",
       "      <td>(10.308283266873062, 105.50872812216863)</td>\n",
       "    </tr>\n",
       "    <tr>\n",
       "      <th>246</th>\n",
       "      <td>(10.582910017285496, 105.23991550078767)</td>\n",
       "    </tr>\n",
       "    <tr>\n",
       "      <th>247</th>\n",
       "      <td>(10.581547330796518, 105.23991550078767)</td>\n",
       "    </tr>\n",
       "    <tr>\n",
       "      <th>248</th>\n",
       "      <td>(10.629241357910818, 105.15315779432643)</td>\n",
       "    </tr>\n",
       "    <tr>\n",
       "      <th>249</th>\n",
       "      <td>(10.574733898351617, 105.10410108072531)</td>\n",
       "    </tr>\n",
       "  </tbody>\n",
       "</table>\n",
       "<p>250 rows × 1 columns</p>\n",
       "</div>"
      ],
      "text/plain": [
       "                       Latitude and Longitude\n",
       "0     (10.18019073690894, 105.32022315786804)\n",
       "1    (10.561107033461816, 105.12772097986661)\n",
       "2    (10.623790611954897, 105.13771401411867)\n",
       "3    (10.583364246115156, 105.23946127195805)\n",
       "4     (10.20744446668854, 105.26844107128906)\n",
       "..                                        ...\n",
       "245  (10.308283266873062, 105.50872812216863)\n",
       "246  (10.582910017285496, 105.23991550078767)\n",
       "247  (10.581547330796518, 105.23991550078767)\n",
       "248  (10.629241357910818, 105.15315779432643)\n",
       "249  (10.574733898351617, 105.10410108072531)\n",
       "\n",
       "[250 rows x 1 columns]"
      ]
     },
     "execution_count": 118,
     "metadata": {},
     "output_type": "execute_result"
    }
   ],
   "source": [
    "test_file"
   ]
  },
  {
   "cell_type": "code",
   "execution_count": 119,
   "id": "3f617e46",
   "metadata": {},
   "outputs": [
    {
     "data": {
      "text/html": [
       "<div>\n",
       "<style scoped>\n",
       "    .dataframe tbody tr th:only-of-type {\n",
       "        vertical-align: middle;\n",
       "    }\n",
       "\n",
       "    .dataframe tbody tr th {\n",
       "        vertical-align: top;\n",
       "    }\n",
       "\n",
       "    .dataframe thead th {\n",
       "        text-align: right;\n",
       "    }\n",
       "</style>\n",
       "<table border=\"1\" class=\"dataframe\">\n",
       "  <thead>\n",
       "    <tr style=\"text-align: right;\">\n",
       "      <th></th>\n",
       "      <th>Latitude and Longitude</th>\n",
       "      <th>Class of Land</th>\n",
       "    </tr>\n",
       "  </thead>\n",
       "  <tbody>\n",
       "    <tr>\n",
       "      <th>0</th>\n",
       "      <td>(10.18019073690894, 105.32022315786804)</td>\n",
       "      <td>1</td>\n",
       "    </tr>\n",
       "    <tr>\n",
       "      <th>1</th>\n",
       "      <td>(10.561107033461816, 105.12772097986661)</td>\n",
       "      <td>1</td>\n",
       "    </tr>\n",
       "    <tr>\n",
       "      <th>2</th>\n",
       "      <td>(10.623790611954897, 105.13771401411867)</td>\n",
       "      <td>1</td>\n",
       "    </tr>\n",
       "    <tr>\n",
       "      <th>3</th>\n",
       "      <td>(10.583364246115156, 105.23946127195805)</td>\n",
       "      <td>0</td>\n",
       "    </tr>\n",
       "    <tr>\n",
       "      <th>4</th>\n",
       "      <td>(10.20744446668854, 105.26844107128906)</td>\n",
       "      <td>1</td>\n",
       "    </tr>\n",
       "    <tr>\n",
       "      <th>...</th>\n",
       "      <td>...</td>\n",
       "      <td>...</td>\n",
       "    </tr>\n",
       "    <tr>\n",
       "      <th>245</th>\n",
       "      <td>(10.308283266873062, 105.50872812216863)</td>\n",
       "      <td>1</td>\n",
       "    </tr>\n",
       "    <tr>\n",
       "      <th>246</th>\n",
       "      <td>(10.582910017285496, 105.23991550078767)</td>\n",
       "      <td>1</td>\n",
       "    </tr>\n",
       "    <tr>\n",
       "      <th>247</th>\n",
       "      <td>(10.581547330796518, 105.23991550078767)</td>\n",
       "      <td>1</td>\n",
       "    </tr>\n",
       "    <tr>\n",
       "      <th>248</th>\n",
       "      <td>(10.629241357910818, 105.15315779432643)</td>\n",
       "      <td>1</td>\n",
       "    </tr>\n",
       "    <tr>\n",
       "      <th>249</th>\n",
       "      <td>(10.574733898351617, 105.10410108072531)</td>\n",
       "      <td>1</td>\n",
       "    </tr>\n",
       "  </tbody>\n",
       "</table>\n",
       "<p>250 rows × 2 columns</p>\n",
       "</div>"
      ],
      "text/plain": [
       "                       Latitude and Longitude  Class of Land\n",
       "0     (10.18019073690894, 105.32022315786804)              1\n",
       "1    (10.561107033461816, 105.12772097986661)              1\n",
       "2    (10.623790611954897, 105.13771401411867)              1\n",
       "3    (10.583364246115156, 105.23946127195805)              0\n",
       "4     (10.20744446668854, 105.26844107128906)              1\n",
       "..                                        ...            ...\n",
       "245  (10.308283266873062, 105.50872812216863)              1\n",
       "246  (10.582910017285496, 105.23991550078767)              1\n",
       "247  (10.581547330796518, 105.23991550078767)              1\n",
       "248  (10.629241357910818, 105.15315779432643)              1\n",
       "249  (10.574733898351617, 105.10410108072531)              1\n",
       "\n",
       "[250 rows x 2 columns]"
      ]
     },
     "execution_count": 119,
     "metadata": {},
     "output_type": "execute_result"
    }
   ],
   "source": [
    "temp_submission_df"
   ]
  },
  {
   "cell_type": "code",
   "execution_count": 97,
   "id": "641dc226",
   "metadata": {},
   "outputs": [],
   "source": [
    "# #Dumping the predictions into a csv file.\n",
    "# temp_submission_df.to_csv(\"challenge_1_submission_rice_crop_prediction_ANN_MLP.csv\",index = False)"
   ]
  },
  {
   "cell_type": "code",
   "execution_count": 128,
   "id": "dff207f5",
   "metadata": {},
   "outputs": [
    {
     "name": "stderr",
     "output_type": "stream",
     "text": [
      "C:\\Users\\Dipendu Gupta\\AppData\\Local\\Temp\\ipykernel_2932\\3621916339.py:3: SettingWithCopyWarning: \n",
      "A value is trying to be set on a copy of a slice from a DataFrame\n",
      "\n",
      "See the caveats in the documentation: https://pandas.pydata.org/pandas-docs/stable/user_guide/indexing.html#returning-a-view-versus-a-copy\n",
      "  temp_submission_df['Class of Land'][i]=\"Rice\"\n"
     ]
    }
   ],
   "source": [
    "for i in range(len(temp_submission_df)):\n",
    "    if temp_submission_df['Class of Land'][i] ==1:\n",
    "        temp_submission_df['Class of Land'][i]=\"Rice\"\n",
    "    elif temp_submission_df['Class of Land'][i] ==0:\n",
    "        temp_submission_df['Class of Land'][i]=\"Non Rice\"  "
   ]
  },
  {
   "cell_type": "code",
   "execution_count": 130,
   "id": "c8e0ee97",
   "metadata": {
    "scrolled": true
   },
   "outputs": [
    {
     "data": {
      "text/html": [
       "<div>\n",
       "<style scoped>\n",
       "    .dataframe tbody tr th:only-of-type {\n",
       "        vertical-align: middle;\n",
       "    }\n",
       "\n",
       "    .dataframe tbody tr th {\n",
       "        vertical-align: top;\n",
       "    }\n",
       "\n",
       "    .dataframe thead th {\n",
       "        text-align: right;\n",
       "    }\n",
       "</style>\n",
       "<table border=\"1\" class=\"dataframe\">\n",
       "  <thead>\n",
       "    <tr style=\"text-align: right;\">\n",
       "      <th></th>\n",
       "      <th>Latitude and Longitude</th>\n",
       "      <th>Class of Land</th>\n",
       "    </tr>\n",
       "  </thead>\n",
       "  <tbody>\n",
       "    <tr>\n",
       "      <th>0</th>\n",
       "      <td>(10.18019073690894, 105.32022315786804)</td>\n",
       "      <td>Rice</td>\n",
       "    </tr>\n",
       "    <tr>\n",
       "      <th>1</th>\n",
       "      <td>(10.561107033461816, 105.12772097986661)</td>\n",
       "      <td>Rice</td>\n",
       "    </tr>\n",
       "    <tr>\n",
       "      <th>2</th>\n",
       "      <td>(10.623790611954897, 105.13771401411867)</td>\n",
       "      <td>Rice</td>\n",
       "    </tr>\n",
       "    <tr>\n",
       "      <th>3</th>\n",
       "      <td>(10.583364246115156, 105.23946127195805)</td>\n",
       "      <td>Non Rice</td>\n",
       "    </tr>\n",
       "    <tr>\n",
       "      <th>4</th>\n",
       "      <td>(10.20744446668854, 105.26844107128906)</td>\n",
       "      <td>Rice</td>\n",
       "    </tr>\n",
       "    <tr>\n",
       "      <th>5</th>\n",
       "      <td>(10.3101001821917, 105.50872812216863)</td>\n",
       "      <td>Rice</td>\n",
       "    </tr>\n",
       "    <tr>\n",
       "      <th>6</th>\n",
       "      <td>(10.823197068175638, 105.2026687367572)</td>\n",
       "      <td>Non Rice</td>\n",
       "    </tr>\n",
       "    <tr>\n",
       "      <th>7</th>\n",
       "      <td>(10.579730415477876, 105.15179510783753)</td>\n",
       "      <td>Non Rice</td>\n",
       "    </tr>\n",
       "    <tr>\n",
       "      <th>8</th>\n",
       "      <td>(10.583364246115156, 105.2390070431284)</td>\n",
       "      <td>Rice</td>\n",
       "    </tr>\n",
       "    <tr>\n",
       "      <th>9</th>\n",
       "      <td>(10.620156781317617, 105.11681948795524)</td>\n",
       "      <td>Rice</td>\n",
       "    </tr>\n",
       "    <tr>\n",
       "      <th>10</th>\n",
       "      <td>(10.822288610516317, 105.20221450792755)</td>\n",
       "      <td>Non Rice</td>\n",
       "    </tr>\n",
       "    <tr>\n",
       "      <th>11</th>\n",
       "      <td>(10.600170712812577, 105.10137570774748)</td>\n",
       "      <td>Rice</td>\n",
       "    </tr>\n",
       "    <tr>\n",
       "      <th>12</th>\n",
       "      <td>(10.602896085790537, 105.11772794561452)</td>\n",
       "      <td>Rice</td>\n",
       "    </tr>\n",
       "    <tr>\n",
       "      <th>13</th>\n",
       "      <td>(10.507962260391597, 104.96874088949261)</td>\n",
       "      <td>Rice</td>\n",
       "    </tr>\n",
       "    <tr>\n",
       "      <th>14</th>\n",
       "      <td>(10.581093101966857, 105.2390070431284)</td>\n",
       "      <td>Rice</td>\n",
       "    </tr>\n",
       "    <tr>\n",
       "      <th>15</th>\n",
       "      <td>(10.582910017285496, 105.2390070431284)</td>\n",
       "      <td>Rice</td>\n",
       "    </tr>\n",
       "    <tr>\n",
       "      <th>16</th>\n",
       "      <td>(10.193363372969081, 105.30886743712702)</td>\n",
       "      <td>Rice</td>\n",
       "    </tr>\n",
       "    <tr>\n",
       "      <th>17</th>\n",
       "      <td>(10.505691116243296, 104.97101203364079)</td>\n",
       "      <td>Non Rice</td>\n",
       "    </tr>\n",
       "    <tr>\n",
       "      <th>18</th>\n",
       "      <td>(10.507508031561937, 104.96964934715189)</td>\n",
       "      <td>Non Rice</td>\n",
       "    </tr>\n",
       "    <tr>\n",
       "      <th>19</th>\n",
       "      <td>(10.213349441474122, 105.3302161921201)</td>\n",
       "      <td>Rice</td>\n",
       "    </tr>\n",
       "    <tr>\n",
       "      <th>20</th>\n",
       "      <td>(10.588814992071077, 105.10137570774748)</td>\n",
       "      <td>Rice</td>\n",
       "    </tr>\n",
       "    <tr>\n",
       "      <th>21</th>\n",
       "      <td>(10.822742839345977, 105.20403142324611)</td>\n",
       "      <td>Non Rice</td>\n",
       "    </tr>\n",
       "    <tr>\n",
       "      <th>22</th>\n",
       "      <td>(10.621065238976936, 105.14679859071148)</td>\n",
       "      <td>Rice</td>\n",
       "    </tr>\n",
       "    <tr>\n",
       "      <th>23</th>\n",
       "      <td>(10.508416489221258, 104.96874088949261)</td>\n",
       "      <td>Non Rice</td>\n",
       "    </tr>\n",
       "    <tr>\n",
       "      <th>24</th>\n",
       "      <td>(10.562015491121137, 105.12635829337768)</td>\n",
       "      <td>Rice</td>\n",
       "    </tr>\n",
       "    <tr>\n",
       "      <th>25</th>\n",
       "      <td>(10.556110516335558, 105.10682645370315)</td>\n",
       "      <td>Rice</td>\n",
       "    </tr>\n",
       "    <tr>\n",
       "      <th>26</th>\n",
       "      <td>(10.225159391045281, 105.28206793617827)</td>\n",
       "      <td>Non Rice</td>\n",
       "    </tr>\n",
       "    <tr>\n",
       "      <th>27</th>\n",
       "      <td>(10.822742839345977, 105.20312296558683)</td>\n",
       "      <td>Non Rice</td>\n",
       "    </tr>\n",
       "    <tr>\n",
       "      <th>28</th>\n",
       "      <td>(10.309191724532381, 105.50872812216863)</td>\n",
       "      <td>Rice</td>\n",
       "    </tr>\n",
       "    <tr>\n",
       "      <th>29</th>\n",
       "      <td>(10.196997203606362, 105.26162763884446)</td>\n",
       "      <td>Rice</td>\n",
       "    </tr>\n",
       "    <tr>\n",
       "      <th>30</th>\n",
       "      <td>(10.281029537093461, 105.53416493662849)</td>\n",
       "      <td>Non Rice</td>\n",
       "    </tr>\n",
       "    <tr>\n",
       "      <th>31</th>\n",
       "      <td>(10.642868222800617, 105.16360505740815)</td>\n",
       "      <td>Non Rice</td>\n",
       "    </tr>\n",
       "    <tr>\n",
       "      <th>32</th>\n",
       "      <td>(10.16610964318948, 105.30614206414918)</td>\n",
       "      <td>Non Rice</td>\n",
       "    </tr>\n",
       "    <tr>\n",
       "      <th>33</th>\n",
       "      <td>(10.181099194568262, 105.33203310743866)</td>\n",
       "      <td>Rice</td>\n",
       "    </tr>\n",
       "    <tr>\n",
       "      <th>34</th>\n",
       "      <td>(10.204719093710581, 105.28025102085971)</td>\n",
       "      <td>Rice</td>\n",
       "    </tr>\n",
       "    <tr>\n",
       "      <th>35</th>\n",
       "      <td>(10.621065238976936, 105.14906973485968)</td>\n",
       "      <td>Rice</td>\n",
       "    </tr>\n",
       "    <tr>\n",
       "      <th>36</th>\n",
       "      <td>(10.822742839345977, 105.2026687367572)</td>\n",
       "      <td>Non Rice</td>\n",
       "    </tr>\n",
       "    <tr>\n",
       "      <th>37</th>\n",
       "      <td>(10.581093101966857, 105.23946127195805)</td>\n",
       "      <td>Rice</td>\n",
       "    </tr>\n",
       "    <tr>\n",
       "      <th>38</th>\n",
       "      <td>(10.503874200924656, 104.97101203364079)</td>\n",
       "      <td>Non Rice</td>\n",
       "    </tr>\n",
       "    <tr>\n",
       "      <th>39</th>\n",
       "      <td>(10.634692103866737, 105.14407321773365)</td>\n",
       "      <td>Rice</td>\n",
       "    </tr>\n",
       "    <tr>\n",
       "      <th>40</th>\n",
       "      <td>(10.18654994052418, 105.28751868213396)</td>\n",
       "      <td>Rice</td>\n",
       "    </tr>\n",
       "    <tr>\n",
       "      <th>41</th>\n",
       "      <td>(10.3101001821917, 105.50918235099826)</td>\n",
       "      <td>Rice</td>\n",
       "    </tr>\n",
       "    <tr>\n",
       "      <th>42</th>\n",
       "      <td>(10.505236887413638, 104.97146626247044)</td>\n",
       "      <td>Rice</td>\n",
       "    </tr>\n",
       "    <tr>\n",
       "      <th>43</th>\n",
       "      <td>(10.19790566126568, 105.32022315786804)</td>\n",
       "      <td>Rice</td>\n",
       "    </tr>\n",
       "    <tr>\n",
       "      <th>44</th>\n",
       "      <td>(10.586543847922776, 105.15997122677103)</td>\n",
       "      <td>Rice</td>\n",
       "    </tr>\n",
       "    <tr>\n",
       "      <th>45</th>\n",
       "      <td>(10.506599573902617, 104.97101203364079)</td>\n",
       "      <td>Non Rice</td>\n",
       "    </tr>\n",
       "    <tr>\n",
       "      <th>46</th>\n",
       "      <td>(10.503419972094997, 104.97146626247044)</td>\n",
       "      <td>Rice</td>\n",
       "    </tr>\n",
       "    <tr>\n",
       "      <th>47</th>\n",
       "      <td>(10.626061756103198, 105.12772097986661)</td>\n",
       "      <td>Rice</td>\n",
       "    </tr>\n",
       "    <tr>\n",
       "      <th>48</th>\n",
       "      <td>(10.17882805041996, 105.29796594521568)</td>\n",
       "      <td>Rice</td>\n",
       "    </tr>\n",
       "    <tr>\n",
       "      <th>49</th>\n",
       "      <td>(10.634692103866737, 105.14679859071148)</td>\n",
       "      <td>Rice</td>\n",
       "    </tr>\n",
       "  </tbody>\n",
       "</table>\n",
       "</div>"
      ],
      "text/plain": [
       "                      Latitude and Longitude Class of Land\n",
       "0    (10.18019073690894, 105.32022315786804)          Rice\n",
       "1   (10.561107033461816, 105.12772097986661)          Rice\n",
       "2   (10.623790611954897, 105.13771401411867)          Rice\n",
       "3   (10.583364246115156, 105.23946127195805)      Non Rice\n",
       "4    (10.20744446668854, 105.26844107128906)          Rice\n",
       "5     (10.3101001821917, 105.50872812216863)          Rice\n",
       "6    (10.823197068175638, 105.2026687367572)      Non Rice\n",
       "7   (10.579730415477876, 105.15179510783753)      Non Rice\n",
       "8    (10.583364246115156, 105.2390070431284)          Rice\n",
       "9   (10.620156781317617, 105.11681948795524)          Rice\n",
       "10  (10.822288610516317, 105.20221450792755)      Non Rice\n",
       "11  (10.600170712812577, 105.10137570774748)          Rice\n",
       "12  (10.602896085790537, 105.11772794561452)          Rice\n",
       "13  (10.507962260391597, 104.96874088949261)          Rice\n",
       "14   (10.581093101966857, 105.2390070431284)          Rice\n",
       "15   (10.582910017285496, 105.2390070431284)          Rice\n",
       "16  (10.193363372969081, 105.30886743712702)          Rice\n",
       "17  (10.505691116243296, 104.97101203364079)      Non Rice\n",
       "18  (10.507508031561937, 104.96964934715189)      Non Rice\n",
       "19   (10.213349441474122, 105.3302161921201)          Rice\n",
       "20  (10.588814992071077, 105.10137570774748)          Rice\n",
       "21  (10.822742839345977, 105.20403142324611)      Non Rice\n",
       "22  (10.621065238976936, 105.14679859071148)          Rice\n",
       "23  (10.508416489221258, 104.96874088949261)      Non Rice\n",
       "24  (10.562015491121137, 105.12635829337768)          Rice\n",
       "25  (10.556110516335558, 105.10682645370315)          Rice\n",
       "26  (10.225159391045281, 105.28206793617827)      Non Rice\n",
       "27  (10.822742839345977, 105.20312296558683)      Non Rice\n",
       "28  (10.309191724532381, 105.50872812216863)          Rice\n",
       "29  (10.196997203606362, 105.26162763884446)          Rice\n",
       "30  (10.281029537093461, 105.53416493662849)      Non Rice\n",
       "31  (10.642868222800617, 105.16360505740815)      Non Rice\n",
       "32   (10.16610964318948, 105.30614206414918)      Non Rice\n",
       "33  (10.181099194568262, 105.33203310743866)          Rice\n",
       "34  (10.204719093710581, 105.28025102085971)          Rice\n",
       "35  (10.621065238976936, 105.14906973485968)          Rice\n",
       "36   (10.822742839345977, 105.2026687367572)      Non Rice\n",
       "37  (10.581093101966857, 105.23946127195805)          Rice\n",
       "38  (10.503874200924656, 104.97101203364079)      Non Rice\n",
       "39  (10.634692103866737, 105.14407321773365)          Rice\n",
       "40   (10.18654994052418, 105.28751868213396)          Rice\n",
       "41    (10.3101001821917, 105.50918235099826)          Rice\n",
       "42  (10.505236887413638, 104.97146626247044)          Rice\n",
       "43   (10.19790566126568, 105.32022315786804)          Rice\n",
       "44  (10.586543847922776, 105.15997122677103)          Rice\n",
       "45  (10.506599573902617, 104.97101203364079)      Non Rice\n",
       "46  (10.503419972094997, 104.97146626247044)          Rice\n",
       "47  (10.626061756103198, 105.12772097986661)          Rice\n",
       "48   (10.17882805041996, 105.29796594521568)          Rice\n",
       "49  (10.634692103866737, 105.14679859071148)          Rice"
      ]
     },
     "execution_count": 130,
     "metadata": {},
     "output_type": "execute_result"
    }
   ],
   "source": [
    "temp_submission_df.head(50)"
   ]
  },
  {
   "cell_type": "code",
   "execution_count": 131,
   "id": "28704bfc",
   "metadata": {},
   "outputs": [],
   "source": [
    "#Dumping the predictions into a csv file.\n",
    "temp_submission_df.to_csv(\"challenge_1_submission_rice_crop_prediction_ANN_MLP_string_2.csv\",index = False)"
   ]
  },
  {
   "cell_type": "code",
   "execution_count": null,
   "id": "f8a46af7",
   "metadata": {},
   "outputs": [],
   "source": []
  }
 ],
 "metadata": {
  "kernelspec": {
   "display_name": "Python 3 (ipykernel)",
   "language": "python",
   "name": "python3"
  },
  "language_info": {
   "codemirror_mode": {
    "name": "ipython",
    "version": 3
   },
   "file_extension": ".py",
   "mimetype": "text/x-python",
   "name": "python",
   "nbconvert_exporter": "python",
   "pygments_lexer": "ipython3",
   "version": "3.10.11"
  }
 },
 "nbformat": 4,
 "nbformat_minor": 5
}
